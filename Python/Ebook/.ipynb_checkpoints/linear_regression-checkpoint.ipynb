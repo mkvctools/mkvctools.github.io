{
 "cells": [
  {
   "cell_type": "code",
   "execution_count": 1,
   "id": "6ebfbb07",
   "metadata": {},
   "outputs": [
    {
     "ename": "SyntaxError",
     "evalue": "invalid syntax (575837012.py, line 5)",
     "output_type": "error",
     "traceback": [
      "\u001b[0;36m  Cell \u001b[0;32mIn[1], line 5\u001b[0;36m\u001b[0m\n\u001b[0;31m    x1 = np.array([0:130])\u001b[0m\n\u001b[0m                    ^\u001b[0m\n\u001b[0;31mSyntaxError\u001b[0m\u001b[0;31m:\u001b[0m invalid syntax\n"
     ]
    }
   ],
   "source": [
    "import numpy as np\n",
    "import matplotlib.pyplot as plt\n",
    "from sklearn.linear_model import LinearRegression\n",
    "# Eingabe-Datenpunkte für erstes Modell\n",
    "x1 = np.array([0, 1, 2, 3, 4, 5, 6, 7, 8, 9, 10, 11, 12, 13, 14, 15])\n",
    "y1 = np.array([67, 82, 90, 105, 159, 237, 282, 291, 240, 243, 246, 421, 464])\n",
    "# Lineare Regression für erstes Modell\n",
    "model1 = LinearRegression()\n",
    "model1.fit(x1.reshape(-1, 1), y1)\n",
    "# Eingabe-Datenpunkte für zweites Modell\n",
    "x2 = np.array([0, 1, 2, 3, 4, 5, 6, 7, 8, 9, 10, 11, 12, 13, 14])\n",
    "y2 = np.array([207, 272, 357, 438, 562, 664, 778, 800, 769, 556, 439, 712, 829, 910.05, 972.97])\n",
    "# Lineare Regression für zweites Modell\n",
    "model2 = LinearRegression()\n",
    "model2.fit(x2.reshape(-1, 1), y2)\n",
    "# Vorhersage für 2010 bis 2025\n",
    "x_pred = np.arange(0, 16)\n",
    "y_pred1 = model1.predict(x_pred.reshape(-1, 1))\n",
    "y_pred2 = model2.predict(x_pred.reshape(-1, 1))\n",
    "# Plot der Daten und der beiden Modelle\n",
    "plt.scatter(x1, y1, label=\"Datenpunkte Modell 1\")\n",
    "plt.plot(x_pred, y_pred1, label=\"Lineares Modell 1\")\n",
    "plt.scatter(x2, y2, label=\"Datenpunkte Modell 2\")\n",
    "plt.plot(x_pred, y_pred2, label=\"Lineares Modell 2\")\n",
    "plt.xlabel(\"Jahr\")\n",
    "plt.ylabel(\"y\")\n",
    "plt.title(\"Lineare Modelle für Datenpunkte von 2010 bis 2025\")\n",
    "plt.legend()\n",
    "plt.show()"
   ]
  },
  {
   "cell_type": "code",
   "execution_count": null,
   "id": "da38fe68",
   "metadata": {},
   "outputs": [],
   "source": []
  }
 ],
 "metadata": {
  "kernelspec": {
   "display_name": "Python 3 (ipykernel)",
   "language": "python",
   "name": "python3"
  },
  "language_info": {
   "codemirror_mode": {
    "name": "ipython",
    "version": 3
   },
   "file_extension": ".py",
   "mimetype": "text/x-python",
   "name": "python",
   "nbconvert_exporter": "python",
   "pygments_lexer": "ipython3",
   "version": "3.11.5"
  }
 },
 "nbformat": 4,
 "nbformat_minor": 5
}
