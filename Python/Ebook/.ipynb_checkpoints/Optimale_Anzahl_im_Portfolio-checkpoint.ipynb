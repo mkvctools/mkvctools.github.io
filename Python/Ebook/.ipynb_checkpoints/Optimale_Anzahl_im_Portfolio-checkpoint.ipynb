{
 "cells": [
  {
   "cell_type": "code",
   "execution_count": 10,
   "id": "f08d4a16",
   "metadata": {},
   "outputs": [
    {
     "name": "stdout",
     "output_type": "stream",
     "text": [
      "y1 = + 29.29 x1 + 49.41\n",
      "y2 = + 43.04 x2 + 316.43\n"
     ]
    },
    {
     "data": {
      "text/plain": [
       "[<matplotlib.lines.Line2D at 0x7ffae2f94f10>]"
      ]
     },
     "execution_count": 10,
     "metadata": {},
     "output_type": "execute_result"
    },
    {
     "data": {
      "image/png": "[encoded data removed]",
      "text/plain": [
       "<Figure size 432x288 with 1 Axes>"
      ]
     },
     "metadata": {
      "needs_background": "light"
     },
     "output_type": "display_data"
    }
   ],
   "source": [
    "import numpy as np\n",
    "import matplotlib.pyplot as plt\n",
    "from sklearn.linear_model import LinearRegression\n",
    "# Eingabe-Datenpunkte\n",
    "x1 = np.array([0, 1, 2, 3, 4, 5, 6, 7, 8, 9, 10, 11, 12])\n",
    "y1 = np.array([67, 82, 90, 105, 159, 237, 282, 291, 240, 243, 246, 421, 464])\n",
    "\n",
    "x2 = np.array([0, 1, 2, 3, 4, 5, 6, 7, 8, 9, 10, 11, 12, 13, 14])\n",
    "y2 = np.array([207, 272, 357, 438, 562, 664, 778, 800, 769, 556, 439, 712, 829, 910.05, 972.97])\n",
    "\n",
    "\n",
    "# Lineare Regression\n",
    "model1 = LinearRegression()\n",
    "model1.fit(x1.reshape(-1, 1), y1)\n",
    "\n",
    "model2 = LinearRegression()\n",
    "model2.fit(x2.reshape(-1, 1), y2)\n",
    "\n",
    "# Ausgabe der Ergebnisse\n",
    "print(f\"y1 = + {model1.coef_[0]:.2f} x1 + {model1.intercept_:.2f}\")\n",
    "\n",
    "model.fit(x2.reshape(-1,1),y2)\n",
    "print(f\"y2 = + {model2.coef_[0]:.2f} x2 + {model2.intercept_:.2f}\")\n",
    "\n",
    "x_pred = np.arange(0,16)\n",
    "y_pred1 = model1.predict(x_pred.reshape(-1,1))\n",
    "y_pred2 = model2.predict(x_pred.reshape(-1,1))\n",
    "\n",
    "plt.scatter(x1,y1,label=\"Datenpunkte Modell 1\")\n",
    "plt.plot(x_pred,y_pred1,label=\"Lineares Modell 1\")\n",
    "plt.scatter(x2,y2,label=\"Datenpunkte Modell 2\")\n",
    "plt.plot(x_pred,y_pred2,label=\"Lineares Modell 2\")\n",
    "plt.xlabel(\"Jahr\")\n",
    "plt.ylabel(\"y\")\n",
    "plt.title(\"Lineare Modelle für Datenpunkte von 2010 bis 2025\")\n",
    "plt.legend()\n",
    "plt.show()\n"
   ]
  },
  {
   "cell_type": "code",
   "execution_count": 9,
   "id": "7850b166",
   "metadata": {},
   "outputs": [
    {
     "name": "stdout",
     "output_type": "stream",
     "text": [
      "[(0, 49.41), (1, 78.69999999999999), (2, 107.99), (3, 137.28), (4, 166.57), (5, 195.85999999999999), (6, 225.15), (7, 254.44), (8, 283.73), (9, 313.02), (10, 342.30999999999995), (11, 371.6), (12, 400.89)]\n",
      "[(0, 316.43), (1, 359.47), (2, 402.51), (3, 445.55), (4, 488.59000000000003), (5, 531.63), (6, 574.6700000000001), (7, 617.71), (8, 660.75), (9, 703.79), (10, 746.8299999999999), (11, 789.87), (12, 832.9100000000001), (13, 875.95), (14, 918.99)]\n"
     ]
    }
   ],
   "source": [
    "# Definiere die Funktion y1\n",
    "def y1(x1):\n",
    "  return 29.29 * x1 + 49.41\n",
    "\n",
    "# Definiere die Funktion y3\n",
    "def y2(x2):\n",
    " return 43.04 * x2 + 316.43 \n",
    "# Erstelle ein leeres Array für die x1 und y1 Werte\n",
    "xy1 = []\n",
    "xy2 = []\n",
    "# Schleife von 0 bis 12 mit Schrittweite 1\n",
    "for x1 in range(13):\n",
    "  # Berechne den y1 Wert für das aktuelle x1\n",
    "  y1_value = y1(x1)\n",
    "  # Füge das Paar (x1, y1) dem Array hinzu\n",
    "    \n",
    "  xy1.append((x1, y1_value))\n",
    "    \n",
    "for x2 in range(15):\n",
    " y2_value = y2(x2)\n",
    " xy2.append((x2,y2_value))\n",
    "\n",
    "# Gib das Array aus\n",
    "print(xy1)\n",
    "print (xy2)\n"
   ]
  },
  {
   "cell_type": "code",
   "execution_count": null,
   "id": "25c5050a",
   "metadata": {},
   "outputs": [],
   "source": []
  },
  {
   "cell_type": "code",
   "execution_count": null,
   "id": "5a26fc02",
   "metadata": {},
   "outputs": [],
   "source": []
  },
  {
   "cell_type": "code",
   "execution_count": null,
   "id": "2f472eee",
   "metadata": {},
   "outputs": [],
   "source": []
  }
 ],
 "metadata": {
  "kernelspec": {
   "display_name": "Python 3",
   "language": "python",
   "name": "python3"
  },
  "language_info": {
   "codemirror_mode": {
    "name": "ipython",
    "version": 3
   },
   "file_extension": ".py",
   "mimetype": "text/x-python",
   "name": "python",
   "nbconvert_exporter": "python",
   "pygments_lexer": "ipython3",
   "version": "3.8.8"
  }
 },
 "nbformat": 4,
 "nbformat_minor": 5
}
